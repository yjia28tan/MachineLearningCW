{
 "cells": [
  {
   "cell_type": "code",
   "execution_count": 1,
   "id": "3b5b779b",
   "metadata": {},
   "outputs": [],
   "source": [
    "import pandas as pd\n",
    "import numpy as np\n",
    "from sklearn.model_selection import train_test_split\n",
    "from sklearn.feature_extraction.text import TfidfVectorizer\n",
    "from sklearn.linear_model import LogisticRegression\n",
    "from sklearn.ensemble import RandomForestClassifier\n",
    "from sklearn.svm import SVC\n",
    "from sklearn.metrics import classification_report, accuracy_score, f1_score\n",
    "import matplotlib.pyplot as plt\n",
    "import seaborn as sns\n"
   ]
  },
  {
   "cell_type": "code",
   "execution_count": 2,
   "id": "c6c3727f",
   "metadata": {},
   "outputs": [
    {
     "name": "stdout",
     "output_type": "stream",
     "text": [
      "Initial Dataset Shape: (416809, 2)\n",
      "\n",
      "First few rows:\n"
     ]
    },
    {
     "data": {
      "text/html": [
       "<div>\n",
       "<style scoped>\n",
       "    .dataframe tbody tr th:only-of-type {\n",
       "        vertical-align: middle;\n",
       "    }\n",
       "\n",
       "    .dataframe tbody tr th {\n",
       "        vertical-align: top;\n",
       "    }\n",
       "\n",
       "    .dataframe thead th {\n",
       "        text-align: right;\n",
       "    }\n",
       "</style>\n",
       "<table border=\"1\" class=\"dataframe\">\n",
       "  <thead>\n",
       "    <tr style=\"text-align: right;\">\n",
       "      <th></th>\n",
       "      <th>text</th>\n",
       "      <th>label</th>\n",
       "    </tr>\n",
       "  </thead>\n",
       "  <tbody>\n",
       "    <tr>\n",
       "      <th>0</th>\n",
       "      <td>i just feel really helpless and heavy hearted</td>\n",
       "      <td>4</td>\n",
       "    </tr>\n",
       "    <tr>\n",
       "      <th>1</th>\n",
       "      <td>ive enjoyed being able to slouch about relax a...</td>\n",
       "      <td>0</td>\n",
       "    </tr>\n",
       "    <tr>\n",
       "      <th>2</th>\n",
       "      <td>i gave up my internship with the dmrg and am f...</td>\n",
       "      <td>4</td>\n",
       "    </tr>\n",
       "    <tr>\n",
       "      <th>3</th>\n",
       "      <td>i dont know i feel so lost</td>\n",
       "      <td>0</td>\n",
       "    </tr>\n",
       "    <tr>\n",
       "      <th>4</th>\n",
       "      <td>i am a kindergarten teacher and i am thoroughl...</td>\n",
       "      <td>4</td>\n",
       "    </tr>\n",
       "  </tbody>\n",
       "</table>\n",
       "</div>"
      ],
      "text/plain": [
       "                                                text  label\n",
       "0      i just feel really helpless and heavy hearted      4\n",
       "1  ive enjoyed being able to slouch about relax a...      0\n",
       "2  i gave up my internship with the dmrg and am f...      4\n",
       "3                         i dont know i feel so lost      0\n",
       "4  i am a kindergarten teacher and i am thoroughl...      4"
      ]
     },
     "execution_count": 2,
     "metadata": {},
     "output_type": "execute_result"
    }
   ],
   "source": [
    "# Load dataset\n",
    "df = pd.read_csv(r\"C:\\Users\\User\\OneDrive\\Documents\\YiJia\\INTI\\Sem 9\\6006CEM Machine Learning and Related Applications\\CW\\MachineLearningCW\\Classification\\text.csv\")\n",
    "\n",
    "# Display the first few rows of the dataset\n",
    "print(\"Initial Dataset Shape:\", df.shape)\n",
    "print(\"\\nFirst few rows:\")\n",
    "df.head()\n"
   ]
  },
  {
   "cell_type": "code",
   "execution_count": 3,
   "id": "995cef14",
   "metadata": {},
   "outputs": [
    {
     "data": {
      "text/plain": [
       "'  0: sadness, 1: joy, 2: love, 3: anger, 4: fear, and 5: surprise'"
      ]
     },
     "execution_count": 3,
     "metadata": {},
     "output_type": "execute_result"
    }
   ],
   "source": [
    "\"\"\"  0: sadness, 1: joy, 2: love, 3: anger, 4: fear, and 5: surprise\"\"\""
   ]
  },
  {
   "cell_type": "code",
   "execution_count": null,
   "id": "c0b53391",
   "metadata": {},
   "outputs": [],
   "source": []
  },
  {
   "cell_type": "code",
   "execution_count": 4,
   "id": "997b75ad",
   "metadata": {},
   "outputs": [
    {
     "name": "stdout",
     "output_type": "stream",
     "text": [
      "\n",
      "Checking for missing values:\n",
      "text     0\n",
      "label    0\n",
      "dtype: int64\n"
     ]
    }
   ],
   "source": [
    "# Check for missing values\n",
    "print(\"\\nChecking for missing values:\")\n",
    "print(df.isnull().sum())"
   ]
  },
  {
   "cell_type": "code",
   "execution_count": 5,
   "id": "1211f276",
   "metadata": {},
   "outputs": [
    {
     "name": "stdout",
     "output_type": "stream",
     "text": [
      "\n",
      "Duplicate Rows:\n",
      "                                                      text  label\n",
      "8397    i told my staff i said you know i feel invigor...      1\n",
      "15187                                         i feel fine      1\n",
      "15638   i feel bob loblaw is a handsome professional m...      1\n",
      "19413   i feel tortured var fb comment action link hre...      3\n",
      "23711   i also have no particular feeling of patriotis...      2\n",
      "...                                                   ...    ...\n",
      "415504  i am a sentimental woman n extremely sensitive...      2\n",
      "415867  i just screend up your profile and i feel you ...      1\n",
      "415891                             the death of my father      0\n",
      "416310                                 i feel so innocent      1\n",
      "416424      i feel more adventurous willing to take risks      1\n",
      "\n",
      "[686 rows x 2 columns]\n"
     ]
    }
   ],
   "source": [
    "# Check for duplicate rows\n",
    "duplicates = df[df.duplicated()]\n",
    "print(\"\\nDuplicate Rows:\\n\", duplicates)"
   ]
  },
  {
   "cell_type": "code",
   "execution_count": 6,
   "id": "34c43a6b",
   "metadata": {},
   "outputs": [],
   "source": [
    "# Drop duplicates\n",
    "df = df.drop_duplicates()"
   ]
  },
  {
   "cell_type": "code",
   "execution_count": 7,
   "id": "807f5088",
   "metadata": {},
   "outputs": [
    {
     "data": {
      "text/plain": [
       "1    140779\n",
       "0    120989\n",
       "3     57235\n",
       "4     47664\n",
       "2     34497\n",
       "5     14959\n",
       "Name: label, dtype: int64"
      ]
     },
     "execution_count": 7,
     "metadata": {},
     "output_type": "execute_result"
    }
   ],
   "source": [
    "df['label'].value_counts()"
   ]
  },
  {
   "cell_type": "code",
   "execution_count": 8,
   "id": "3de246c1",
   "metadata": {},
   "outputs": [
    {
     "data": {
      "image/png": "[encoded data removed]",
      "text/plain": [
       "<Figure size 640x480 with 1 Axes>"
      ]
     },
     "metadata": {},
     "output_type": "display_data"
    }
   ],
   "source": [
    "# Plot class distribution\n",
    "class_counts = df['label'].value_counts()\n",
    "sns.barplot(x=class_counts.index, y=class_counts.values, palette=\"viridis\")\n",
    "plt.xlabel(\"Class Labels\")\n",
    "plt.ylabel(\"Number of Samples\")\n",
    "plt.title(\"Class Distribution\")\n",
    "plt.show()"
   ]
  },
  {
   "cell_type": "code",
   "execution_count": 9,
   "id": "145a3156",
   "metadata": {},
   "outputs": [
    {
     "data": {
      "image/png": "[encoded data removed]",
      "text/plain": [
       "<Figure size 1000x600 with 1 Axes>"
      ]
     },
     "metadata": {},
     "output_type": "display_data"
    }
   ],
   "source": [
    "# Analyze text length\n",
    "df['text_length'] = df['text'].apply(len)\n",
    "\n",
    "# Plot text length distribution per class\n",
    "plt.figure(figsize=(10, 6))\n",
    "sns.boxplot(x='label', y='text_length', data=df, palette=\"muted\")\n",
    "plt.title(\"Text Length Distribution by Class\")\n",
    "plt.xlabel(\"Class Labels\")\n",
    "plt.ylabel(\"Text Length\")\n",
    "plt.show()\n"
   ]
  },
  {
   "cell_type": "code",
   "execution_count": null,
   "id": "f171b0eb",
   "metadata": {},
   "outputs": [],
   "source": []
  },
  {
   "cell_type": "code",
   "execution_count": 10,
   "id": "65a6c53a",
   "metadata": {},
   "outputs": [],
   "source": [
    "# Convert text to numerical features (TF-IDF)\n",
    "vectorizer = TfidfVectorizer(max_features=5000, stop_words='english')\n",
    "X = vectorizer.fit_transform(df['text'])\n",
    "y = df['label']"
   ]
  },
  {
   "cell_type": "code",
   "execution_count": 11,
   "id": "247e5741",
   "metadata": {},
   "outputs": [],
   "source": [
    "from imblearn.under_sampling import RandomUnderSampler\n",
    "\n",
    "# Apply undersampling because of class imbalance\n",
    "undersampler = RandomUnderSampler(random_state=42)\n",
    "X_resampled, y_resampled = undersampler.fit_resample(X, y)"
   ]
  },
  {
   "cell_type": "code",
   "execution_count": 12,
   "id": "e1682d77",
   "metadata": {},
   "outputs": [
    {
     "name": "stdout",
     "output_type": "stream",
     "text": [
      "\n",
      "Class Distribution After Undersampling:\n",
      " {0: 14959, 1: 14959, 2: 14959, 3: 14959, 4: 14959, 5: 14959}\n"
     ]
    }
   ],
   "source": [
    "# New class distribution\n",
    "unique, counts = np.unique(y_resampled, return_counts=True)\n",
    "print(\"\\nClass Distribution After Undersampling:\\n\", dict(zip(unique, counts)))\n"
   ]
  },
  {
   "cell_type": "code",
   "execution_count": null,
   "id": "bca48c98",
   "metadata": {},
   "outputs": [],
   "source": []
  },
  {
   "cell_type": "code",
   "execution_count": 13,
   "id": "1cd28fd7",
   "metadata": {},
   "outputs": [
    {
     "name": "stdout",
     "output_type": "stream",
     "text": [
      "(71803, 5000)\n",
      "(17951, 5000)\n",
      "(71803,)\n",
      "(17951,)\n"
     ]
    }
   ],
   "source": [
    "# Train-test split\n",
    "X_train, X_test, y_train, y_test = train_test_split(X_resampled, y_resampled, test_size=0.2, random_state=42)\n",
    "\n",
    "print(X_train.shape)\n",
    "print(X_test.shape)\n",
    "print(y_train.shape)\n",
    "print(y_test.shape)"
   ]
  },
  {
   "cell_type": "code",
   "execution_count": 14,
   "id": "56b1bed4",
   "metadata": {},
   "outputs": [
    {
     "name": "stdout",
     "output_type": "stream",
     "text": [
      "\n",
      "Logistic Regression Classification Report:\n",
      "               precision    recall  f1-score   support\n",
      "\n",
      "           0       0.94      0.90      0.92      2979\n",
      "           1       0.91      0.85      0.88      2949\n",
      "           2       0.90      0.95      0.93      3075\n",
      "           3       0.92      0.92      0.92      3000\n",
      "           4       0.90      0.87      0.89      3034\n",
      "           5       0.89      0.96      0.92      2914\n",
      "\n",
      "    accuracy                           0.91     17951\n",
      "   macro avg       0.91      0.91      0.91     17951\n",
      "weighted avg       0.91      0.91      0.91     17951\n",
      "\n",
      "Logistic Regression Accuracy: 0.9096986240320873\n"
     ]
    }
   ],
   "source": [
    "# Train Logistic Regression Model\n",
    "lr_model = LogisticRegression(max_iter=1000, class_weight='balanced', random_state=42)\n",
    "lr_model.fit(X_train, y_train)\n",
    "\n",
    "# Evaluate Logistic Regression\n",
    "y_pred_lr = lr_model.predict(X_test)\n",
    "print(\"\\nLogistic Regression Classification Report:\\n\", classification_report(y_test, y_pred_lr))\n",
    "print(\"Logistic Regression Accuracy:\", accuracy_score(y_test, y_pred_lr))"
   ]
  },
  {
   "cell_type": "code",
   "execution_count": 15,
   "id": "430388f6",
   "metadata": {},
   "outputs": [
    {
     "name": "stdout",
     "output_type": "stream",
     "text": [
      "\n",
      "SVM Classification Report:\n",
      "               precision    recall  f1-score   support\n",
      "\n",
      "           0       0.95      0.88      0.91      2979\n",
      "           1       0.94      0.83      0.89      2949\n",
      "           2       0.89      0.98      0.93      3075\n",
      "           3       0.92      0.91      0.92      3000\n",
      "           4       0.90      0.88      0.89      3034\n",
      "           5       0.87      0.99      0.93      2914\n",
      "\n",
      "    accuracy                           0.91     17951\n",
      "   macro avg       0.91      0.91      0.91     17951\n",
      "weighted avg       0.91      0.91      0.91     17951\n",
      "\n",
      "SVM Accuracy: 0.9115369617291516\n"
     ]
    }
   ],
   "source": [
    "# Train Support Vector Machine (SVM) Model\n",
    "svm_model = SVC(kernel='linear', class_weight='balanced', random_state=42)\n",
    "svm_model.fit(X_train, y_train)\n",
    "\n",
    "# Evaluate SVM\n",
    "y_pred_svm = svm_model.predict(X_test)\n",
    "print(\"\\nSVM Classification Report:\\n\", classification_report(y_test, y_pred_svm))\n",
    "print(\"SVM Accuracy:\", accuracy_score(y_test, y_pred_svm))"
   ]
  },
  {
   "cell_type": "code",
   "execution_count": null,
   "id": "3332c04b",
   "metadata": {},
   "outputs": [],
   "source": []
  },
  {
   "cell_type": "code",
   "execution_count": null,
   "id": "d3538270",
   "metadata": {},
   "outputs": [],
   "source": []
  },
  {
   "cell_type": "code",
   "execution_count": 16,
   "id": "1c687512",
   "metadata": {},
   "outputs": [],
   "source": []
  },
  {
   "cell_type": "code",
   "execution_count": 32,
   "id": "6698d9af",
   "metadata": {},
   "outputs": [
    {
     "name": "stdout",
     "output_type": "stream",
     "text": [
      "\n",
      "Text: I am good today!!!\n",
      "Logistic Regression Prediction: Joy\n",
      "SVM Prediction: Joy\n",
      "\n",
      "Text: This is making me very sad\n",
      "Logistic Regression Prediction: Sad\n",
      "SVM Prediction: Sad\n",
      "\n",
      "Text: I am so angry right now\n",
      "Logistic Regression Prediction: Angry\n",
      "SVM Prediction: Angry\n",
      "\n",
      "Text: I hate this situation.\n",
      "Logistic Regression Prediction: Angry\n",
      "SVM Prediction: Angry\n",
      "\n",
      "Text: Wow!! I finally got it!\n",
      "Logistic Regression Prediction: Joy\n",
      "SVM Prediction: Joy\n",
      "\n",
      "Text: The doll is so scary.\n",
      "Logistic Regression Prediction: Joy\n",
      "SVM Prediction: Joy\n",
      "\n",
      "Text: My puppy is so cute, love it!!\n",
      "Logistic Regression Prediction: Joy\n",
      "SVM Prediction: Joy\n"
     ]
    }
   ],
   "source": [
    "# List of text inputs to test\n",
    "test_texts = [\n",
    "    \"I am good today!!!\",\n",
    "    \"This is making me very sad\",\n",
    "    \"I am so angry right now\",\n",
    "    \"I hate this situation.\",\n",
    "    \"Wow!! I finally got it!\", \n",
    "    \"The doll is so scary.\",\n",
    "    \"My puppy is so cute, love it!!\"\n",
    "]\n",
    "\n",
    "# Vectorize the input texts using the same vectorizer\n",
    "input_vectorized = vectorizer.transform(test_texts)\n",
    "\n",
    "# Make predictions using both models\n",
    "lr_predictions = lr_model.predict(input_vectorized)\n",
    "svm_predictions = svm_model.predict(input_vectorized)\n",
    "\n",
    "# Class label mapping\n",
    "class_labels = {0: 'Sad', 1: 'Joy', 2: 'Love', 3: 'Angry', 4: 'Fearful', 5: 'Surprised'}\n",
    "\n",
    "# Print predictions\n",
    "for text, lr_pred, svm_pred in zip(test_texts, lr_predictions, svm_predictions):\n",
    "    print(f\"\\nText: {text}\")\n",
    "    print(f\"Logistic Regression Prediction: {class_labels[lr_pred]}\")\n",
    "    print(f\"SVM Prediction: {class_labels[svm_pred]}\")"
   ]
  },
  {
   "cell_type": "code",
   "execution_count": null,
   "id": "2356af44",
   "metadata": {},
   "outputs": [],
   "source": [
    "\"\"\"  0: sadness, 1: joy, 2: love, 3: anger, 4: fear, and 5: surprise\"\"\""
   ]
  }
 ],
 "metadata": {
  "kernelspec": {
   "display_name": "Python 3 (ipykernel)",
   "language": "python",
   "name": "python3"
  },
  "language_info": {
   "codemirror_mode": {
    "name": "ipython",
    "version": 3
   },
   "file_extension": ".py",
   "mimetype": "text/x-python",
   "name": "python",
   "nbconvert_exporter": "python",
   "pygments_lexer": "ipython3",
   "version": "3.9.18"
  }
 },
 "nbformat": 4,
 "nbformat_minor": 5
}
